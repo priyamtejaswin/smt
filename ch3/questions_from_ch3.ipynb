{
 "cells": [
  {
   "cell_type": "markdown",
   "metadata": {},
   "source": [
    "# Questions from chapter 3 -  probability theory"
   ]
  },
  {
   "cell_type": "code",
   "execution_count": 128,
   "metadata": {
    "collapsed": true
   },
   "outputs": [],
   "source": [
    "import numpy as np\n",
    "from collections import defaultdict, Counter\n",
    "%matplotlib inline\n",
    "import seaborn as sns\n",
    "import matplotlib.pyplot as plt\n",
    "import pandas as pd"
   ]
  },
  {
   "cell_type": "markdown",
   "metadata": {},
   "source": [
    "### Q1\n",
    "a. The maximum likelihood estimate of *p* for a binomial random variable is simply $ num\\_event/total\\_events $ which in this case would be:\n",
    "\n",
    "$$p(h) = \\frac{num\\_heads}{total\\_flips} = 4/10$$\n",
    "$$p(t) = 1 - p(h) = 6/10$$\n",
    "\n",
    "This could be derived by maximizing the log-likelihood of **p(D | h)** where **h** is the probability of heads. Given 10 tosses in order `HTTHTHTHTT`, the likelihood function *L(h | D)* can be expressed as:\n",
    "$$L(h | D) = p(D | h) = h^4*(1 - h)^6$$\n",
    "\n",
    "Taking log of the likelihood returns:\n",
    "$$log(L) = 4*log(h) + 6*log(1 - h)$$\n",
    "\n",
    "Taking the derivative of the negative log-likelihood returns:\n",
    "\n",
    "$$ \\frac{-dL}{dh} = \\frac{4}{h} - \\frac{6}{1 - h}  $$\n",
    "\n",
    "Solving for *h* where $\\frac{dL}{dh} = 0$ gives $h = \\frac{2}{5}$\n",
    "\n",
    "b. If the coin is flipped 5 times to observe HHTTH, the probability of observation by ML estimate will be $0.4^3*0.6^2 = 0.02304$. According to a uniform distribution of 0.5, the probability will be $0.5^5 = 0.03125$"
   ]
  },
  {
   "cell_type": "markdown",
   "metadata": {},
   "source": [
    "### Q2"
   ]
  },
  {
   "cell_type": "code",
   "execution_count": 2,
   "metadata": {
    "collapsed": false
   },
   "outputs": [
    {
     "name": "stdout",
     "output_type": "stream",
     "text": [
      "a. mean = 3.9 var = 3.09\n"
     ]
    }
   ],
   "source": [
    "data = [4, 2, 6, 6, 2, 1, 4, 3, 6, 5]\n",
    "print \"a.\", \"mean =\", np.mean(data), \"var =\", np.var(data)"
   ]
  },
  {
   "cell_type": "code",
   "execution_count": 5,
   "metadata": {
    "collapsed": false
   },
   "outputs": [
    {
     "name": "stdout",
     "output_type": "stream",
     "text": [
      "b. Assuming uniform distribution, expectation = 6.5\n",
      "and variance = 5.15\n"
     ]
    }
   ],
   "source": [
    "print \"b. Assuming uniform distribution, expectation =\", sum(v*1.0/6 for v in data)\n",
    "print \"and variance =\", sum((v - 3.9)**2 * 1.0/6 for v in data)"
   ]
  },
  {
   "cell_type": "markdown",
   "metadata": {},
   "source": [
    "### Q3\n",
    "a. Prove that $p(y|x) = p(y)$ if X and Y are independent.\n",
    "\n",
    "Conditional probability is defined as $p(y|x) = \\frac{p(x, y)}{p(x)}$. If X and Y are independent then $p(x, y) = p(x)p(y)$. Substitute and simplify.\n",
    "\n",
    "b. $p(x|y) = \\frac{p(x, y)}{p(y)}$ and $p(y|x) = \\frac{p(x, y)}{p(x)}$. Substitute and simplify."
   ]
  },
  {
   "cell_type": "markdown",
   "metadata": {},
   "source": [
    "### Q6 looks interesting. Obtain a text corpus that is tokenized, such as the Europarl corpus, and take a subset of it. Collect statistics over the frequency of words and the length of words (in characters).\n",
    "\n",
    "### a. Use the statistics to estimate probability distributions for both events, and for each event by itself."
   ]
  },
  {
   "cell_type": "code",
   "execution_count": 177,
   "metadata": {
    "collapsed": false
   },
   "outputs": [],
   "source": [
    "with open('../data/common-test/ep-test.en') as fp:\n",
    "    _word_counter = 0\n",
    "    len_list = []\n",
    "    freq_counter, len_counter = defaultdict(int), defaultdict(int)\n",
    "    \n",
    "    joint_counter = {}\n",
    "    \n",
    "    read = 0\n",
    "    while read<25:\n",
    "        line = fp.readline().strip()\n",
    "        for word in line.split():\n",
    "            _word_counter +=1\n",
    "            \n",
    "            freq_counter[word] += 1\n",
    "            len_counter[len(word)] += 1\n",
    "            len_list.append(len(word))\n",
    "            \n",
    "            if word not in joint_counter:\n",
    "                joint_counter[word] = [len(word), 0]\n",
    "            joint_counter[word][1] += 1\n",
    "            \n",
    "        read+=1"
   ]
  },
  {
   "cell_type": "code",
   "execution_count": 178,
   "metadata": {
    "collapsed": false
   },
   "outputs": [
    {
     "data": {
      "text/plain": [
       "(69, 534)"
      ]
     },
     "execution_count": 178,
     "metadata": {},
     "output_type": "execute_result"
    }
   ],
   "source": [
    "len_counter[1], sum(len_counter.values())"
   ]
  },
  {
   "cell_type": "code",
   "execution_count": 179,
   "metadata": {
    "collapsed": false
   },
   "outputs": [
    {
     "name": "stdout",
     "output_type": "stream",
     "text": [
      "Probability distribution for individual events\n"
     ]
    },
    {
     "data": {
      "image/png": "[encoded data removed]",
      "text/plain": [
       "<matplotlib.figure.Figure at 0x10f6d8dd0>"
      ]
     },
     "metadata": {},
     "output_type": "display_data"
    }
   ],
   "source": [
    "plt.scatter(len_counter.keys(), np.array(len_counter.values())*1.0/sum(len_counter.values()), \n",
    "            c=\"blue\", label=\"word lengths\", alpha=0.5)\n",
    "plt.xlim(1, 25)\n",
    "# plt.ylim(1, 2600)\n",
    "\n",
    "_freqC = Counter(freq_counter.values())\n",
    "plt.scatter(_freqC.keys(), np.array(_freqC.values())*1.0/sum(_freqC.values()), \n",
    "            c=\"red\", label=\"word frequencies\", alpha=0.5)\n",
    "plt.xlim(1, 25)\n",
    "# plt.ylim(1, 1500)\n",
    "plt.xlabel(\"abs value\")\n",
    "plt.ylabel(\"mass\")\n",
    "\n",
    "plt.legend()\n",
    "plt.title(\"Probability distribution for individual events\")\n",
    "print \"Probability distribution for individual events\""
   ]
  },
  {
   "cell_type": "markdown",
   "metadata": {},
   "source": [
    "### To find the distribution for the combined event, we will have to consider the entire joint sample space."
   ]
  },
  {
   "cell_type": "code",
   "execution_count": 180,
   "metadata": {
    "collapsed": false
   },
   "outputs": [
    {
     "name": "stdout",
     "output_type": "stream",
     "text": [
      "total unique word lengths: 14 [1, 2, 3, 4, 5, 6, 7, 8, 9, 10, 11, 12, 13, 16]\n",
      "total unique word frequencies: 14 [1, 2, 3, 4, 5, 6, 33, 9, 10, 11, 44, 17, 19, 26]\n"
     ]
    }
   ],
   "source": [
    "uniq_lengths = len(len_counter.keys())\n",
    "uniq_freqs = len(_freqC.keys())\n",
    "print \"total unique word lengths:\", len(len_counter.keys()), len_counter.keys()\n",
    "print \"total unique word frequencies:\", len(_freqC.keys()), _freqC.keys()[:25]"
   ]
  },
  {
   "cell_type": "markdown",
   "metadata": {},
   "source": [
    "We now find support for every possible combination in a UNIQ_LENGTHS x UNIQ_FREQUENCIES matrix; i.e. how many words had a length of 1 and a frequency of 128? ... and so on.\n",
    "\n",
    "To make things easier, we can create a lookup for every words (length, frequency) and then iterate over every word to populate the matrix.\n",
    "\n",
    "# !!!!! MARGINALIZING OVER THE FREQUENCY TO GET THE TOTAL COUNT FOR A LENGTH SHOULD NOT BE DONE BY SIMPLY SUMMING OVER THE 1st AXIS !!!!!!\n",
    "The matrix representation can be a bit mis-leading since the 1st dimension captures the number of ocurrences. Hence, to *CORRECTLY* marginalize over the axis=1, we must multiply the number in the cell with the actual number of occurences which can be derived from the **`freqs_mapping`** variable.\n",
    "\n",
    "For example, to find the frequency of length **1** words, we add all the counts in row0 multiplied by the number of times they have actually ocurred. So, if joint_counts[0,0] == 15 it implies that 15 words with length of 1 have ocurred 1 time; therefore their total frequency is 15\\*1. If joint_counts[0, 1] == 12 it implies that 12 words with length of 1 have ocurred 2 times(as **`freqs_mapping`** says column1 maps to 2); therefore its toral frequency will be 12\\*2.\n",
    "\n",
    "### NOTE: I have since updated the joint_counts to be populated by the actual(multiplied) counts, so summing over axis=1 would marginalize correctly."
   ]
  },
  {
   "cell_type": "code",
   "execution_count": 181,
   "metadata": {
    "collapsed": false
   },
   "outputs": [
    {
     "name": "stdout",
     "output_type": "stream",
     "text": [
      "[('all', [3, 4]), ('words', [5, 1]), ('just', [4, 1]), ('avraham', [7, 1]), ('september', [9, 3]), ('indeed', [6, 1]), ('heartfelt', [9, 1]), ('both', [4, 1]), ('displayed', [9, 1]), ('bombed', [6, 1])]\n"
     ]
    }
   ],
   "source": [
    "joint_counts = np.zeros((uniq_lengths, uniq_freqs), dtype=np.int32) ## lengths X frequencies\n",
    "lengths_mapping = {l:ix for ix,l in enumerate(sorted(len_counter.keys()))}\n",
    "rev_lengths = sorted(len_counter.keys())\n",
    "freqs_mapping = {f:ix for ix,f in enumerate(sorted(_freqC.keys()))}\n",
    "rev_freqs = sorted(_freqC.keys())\n",
    "\n",
    "print joint_counter.items()[:10]\n",
    "for word, (l,f) in joint_counter.iteritems():\n",
    "    _ml, _mf = lengths_mapping[l], freqs_mapping[f]\n",
    "    joint_counts[_ml, _mf] += 1*f"
   ]
  },
  {
   "cell_type": "code",
   "execution_count": 182,
   "metadata": {
    "collapsed": false
   },
   "outputs": [
    {
     "name": "stdout",
     "output_type": "stream",
     "text": [
      "69 99 [69 99 88 75 50 31 43 28 26 11  9  2  2  1]\n",
      "0.352040816327 0.505102040816\n",
      "252 534\n"
     ]
    }
   ],
   "source": [
    "print len_counter[1], len_counter[2], np.sum(joint_counts, axis=1)\n",
    "print len_counter[1]*1.0/(uniq_freqs*uniq_lengths), len_counter[2]*1.0/(uniq_freqs*uniq_lengths)\n",
    "\n",
    "print sum(_freqC.values()), _word_counter"
   ]
  },
  {
   "cell_type": "code",
   "execution_count": 185,
   "metadata": {
    "collapsed": false
   },
   "outputs": [
    {
     "data": {
      "text/plain": [
       "array([ 0.129,  0.186,  0.164,  0.141,  0.093,  0.058,  0.08 ,  0.051,\n",
       "        0.049,  0.021,  0.017,  0.004,  0.004,  0.002])"
      ]
     },
     "execution_count": 185,
     "metadata": {},
     "output_type": "execute_result"
    }
   ],
   "source": [
    "np.sum(joint_distribution, axis=1)"
   ]
  },
  {
   "cell_type": "code",
   "execution_count": 183,
   "metadata": {
    "collapsed": false
   },
   "outputs": [
    {
     "name": "stdout",
     "output_type": "stream",
     "text": [
      "Joint probability distribution for LENGTHS AND FREQUENCIES:\n",
      "\n"
     ]
    },
    {
     "data": {
      "text/html": [
       "<div>\n",
       "<table border=\"1\" class=\"dataframe\">\n",
       "  <thead>\n",
       "    <tr style=\"text-align: right;\">\n",
       "      <th></th>\n",
       "      <th>freq_1</th>\n",
       "      <th>freq_2</th>\n",
       "      <th>freq_3</th>\n",
       "      <th>freq_4</th>\n",
       "      <th>freq_5</th>\n",
       "      <th>freq_6</th>\n",
       "      <th>freq_9</th>\n",
       "      <th>freq_10</th>\n",
       "      <th>freq_11</th>\n",
       "      <th>freq_17</th>\n",
       "      <th>freq_19</th>\n",
       "      <th>freq_26</th>\n",
       "      <th>freq_33</th>\n",
       "      <th>freq_44</th>\n",
       "    </tr>\n",
       "  </thead>\n",
       "  <tbody>\n",
       "    <tr>\n",
       "      <th>len_1</th>\n",
       "      <td>0.007</td>\n",
       "      <td>0.000</td>\n",
       "      <td>0.006</td>\n",
       "      <td>0.007</td>\n",
       "      <td>0.000</td>\n",
       "      <td>0.011</td>\n",
       "      <td>0.000</td>\n",
       "      <td>0.000</td>\n",
       "      <td>0.000</td>\n",
       "      <td>0.000</td>\n",
       "      <td>0.036</td>\n",
       "      <td>0.000</td>\n",
       "      <td>0.062</td>\n",
       "      <td>0.000</td>\n",
       "    </tr>\n",
       "    <tr>\n",
       "      <th>len_2</th>\n",
       "      <td>0.006</td>\n",
       "      <td>0.019</td>\n",
       "      <td>0.022</td>\n",
       "      <td>0.000</td>\n",
       "      <td>0.000</td>\n",
       "      <td>0.022</td>\n",
       "      <td>0.017</td>\n",
       "      <td>0.019</td>\n",
       "      <td>0.000</td>\n",
       "      <td>0.032</td>\n",
       "      <td>0.000</td>\n",
       "      <td>0.049</td>\n",
       "      <td>0.000</td>\n",
       "      <td>0.000</td>\n",
       "    </tr>\n",
       "    <tr>\n",
       "      <th>len_3</th>\n",
       "      <td>0.021</td>\n",
       "      <td>0.007</td>\n",
       "      <td>0.017</td>\n",
       "      <td>0.007</td>\n",
       "      <td>0.009</td>\n",
       "      <td>0.000</td>\n",
       "      <td>0.000</td>\n",
       "      <td>0.000</td>\n",
       "      <td>0.021</td>\n",
       "      <td>0.000</td>\n",
       "      <td>0.000</td>\n",
       "      <td>0.000</td>\n",
       "      <td>0.000</td>\n",
       "      <td>0.082</td>\n",
       "    </tr>\n",
       "    <tr>\n",
       "      <th>len_4</th>\n",
       "      <td>0.066</td>\n",
       "      <td>0.019</td>\n",
       "      <td>0.006</td>\n",
       "      <td>0.022</td>\n",
       "      <td>0.000</td>\n",
       "      <td>0.011</td>\n",
       "      <td>0.017</td>\n",
       "      <td>0.000</td>\n",
       "      <td>0.000</td>\n",
       "      <td>0.000</td>\n",
       "      <td>0.000</td>\n",
       "      <td>0.000</td>\n",
       "      <td>0.000</td>\n",
       "      <td>0.000</td>\n",
       "    </tr>\n",
       "    <tr>\n",
       "      <th>len_5</th>\n",
       "      <td>0.054</td>\n",
       "      <td>0.022</td>\n",
       "      <td>0.017</td>\n",
       "      <td>0.000</td>\n",
       "      <td>0.000</td>\n",
       "      <td>0.000</td>\n",
       "      <td>0.000</td>\n",
       "      <td>0.000</td>\n",
       "      <td>0.000</td>\n",
       "      <td>0.000</td>\n",
       "      <td>0.000</td>\n",
       "      <td>0.000</td>\n",
       "      <td>0.000</td>\n",
       "      <td>0.000</td>\n",
       "    </tr>\n",
       "    <tr>\n",
       "      <th>len_6</th>\n",
       "      <td>0.043</td>\n",
       "      <td>0.004</td>\n",
       "      <td>0.011</td>\n",
       "      <td>0.000</td>\n",
       "      <td>0.000</td>\n",
       "      <td>0.000</td>\n",
       "      <td>0.000</td>\n",
       "      <td>0.000</td>\n",
       "      <td>0.000</td>\n",
       "      <td>0.000</td>\n",
       "      <td>0.000</td>\n",
       "      <td>0.000</td>\n",
       "      <td>0.000</td>\n",
       "      <td>0.000</td>\n",
       "    </tr>\n",
       "    <tr>\n",
       "      <th>len_7</th>\n",
       "      <td>0.047</td>\n",
       "      <td>0.011</td>\n",
       "      <td>0.006</td>\n",
       "      <td>0.007</td>\n",
       "      <td>0.009</td>\n",
       "      <td>0.000</td>\n",
       "      <td>0.000</td>\n",
       "      <td>0.000</td>\n",
       "      <td>0.000</td>\n",
       "      <td>0.000</td>\n",
       "      <td>0.000</td>\n",
       "      <td>0.000</td>\n",
       "      <td>0.000</td>\n",
       "      <td>0.000</td>\n",
       "    </tr>\n",
       "    <tr>\n",
       "      <th>len_8</th>\n",
       "      <td>0.037</td>\n",
       "      <td>0.007</td>\n",
       "      <td>0.000</td>\n",
       "      <td>0.007</td>\n",
       "      <td>0.000</td>\n",
       "      <td>0.000</td>\n",
       "      <td>0.000</td>\n",
       "      <td>0.000</td>\n",
       "      <td>0.000</td>\n",
       "      <td>0.000</td>\n",
       "      <td>0.000</td>\n",
       "      <td>0.000</td>\n",
       "      <td>0.000</td>\n",
       "      <td>0.000</td>\n",
       "    </tr>\n",
       "    <tr>\n",
       "      <th>len_9</th>\n",
       "      <td>0.028</td>\n",
       "      <td>0.004</td>\n",
       "      <td>0.017</td>\n",
       "      <td>0.000</td>\n",
       "      <td>0.000</td>\n",
       "      <td>0.000</td>\n",
       "      <td>0.000</td>\n",
       "      <td>0.000</td>\n",
       "      <td>0.000</td>\n",
       "      <td>0.000</td>\n",
       "      <td>0.000</td>\n",
       "      <td>0.000</td>\n",
       "      <td>0.000</td>\n",
       "      <td>0.000</td>\n",
       "    </tr>\n",
       "    <tr>\n",
       "      <th>len_10</th>\n",
       "      <td>0.015</td>\n",
       "      <td>0.000</td>\n",
       "      <td>0.006</td>\n",
       "      <td>0.000</td>\n",
       "      <td>0.000</td>\n",
       "      <td>0.000</td>\n",
       "      <td>0.000</td>\n",
       "      <td>0.000</td>\n",
       "      <td>0.000</td>\n",
       "      <td>0.000</td>\n",
       "      <td>0.000</td>\n",
       "      <td>0.000</td>\n",
       "      <td>0.000</td>\n",
       "      <td>0.000</td>\n",
       "    </tr>\n",
       "    <tr>\n",
       "      <th>len_11</th>\n",
       "      <td>0.013</td>\n",
       "      <td>0.004</td>\n",
       "      <td>0.000</td>\n",
       "      <td>0.000</td>\n",
       "      <td>0.000</td>\n",
       "      <td>0.000</td>\n",
       "      <td>0.000</td>\n",
       "      <td>0.000</td>\n",
       "      <td>0.000</td>\n",
       "      <td>0.000</td>\n",
       "      <td>0.000</td>\n",
       "      <td>0.000</td>\n",
       "      <td>0.000</td>\n",
       "      <td>0.000</td>\n",
       "    </tr>\n",
       "    <tr>\n",
       "      <th>len_12</th>\n",
       "      <td>0.004</td>\n",
       "      <td>0.000</td>\n",
       "      <td>0.000</td>\n",
       "      <td>0.000</td>\n",
       "      <td>0.000</td>\n",
       "      <td>0.000</td>\n",
       "      <td>0.000</td>\n",
       "      <td>0.000</td>\n",
       "      <td>0.000</td>\n",
       "      <td>0.000</td>\n",
       "      <td>0.000</td>\n",
       "      <td>0.000</td>\n",
       "      <td>0.000</td>\n",
       "      <td>0.000</td>\n",
       "    </tr>\n",
       "    <tr>\n",
       "      <th>len_13</th>\n",
       "      <td>0.004</td>\n",
       "      <td>0.000</td>\n",
       "      <td>0.000</td>\n",
       "      <td>0.000</td>\n",
       "      <td>0.000</td>\n",
       "      <td>0.000</td>\n",
       "      <td>0.000</td>\n",
       "      <td>0.000</td>\n",
       "      <td>0.000</td>\n",
       "      <td>0.000</td>\n",
       "      <td>0.000</td>\n",
       "      <td>0.000</td>\n",
       "      <td>0.000</td>\n",
       "      <td>0.000</td>\n",
       "    </tr>\n",
       "    <tr>\n",
       "      <th>len_16</th>\n",
       "      <td>0.002</td>\n",
       "      <td>0.000</td>\n",
       "      <td>0.000</td>\n",
       "      <td>0.000</td>\n",
       "      <td>0.000</td>\n",
       "      <td>0.000</td>\n",
       "      <td>0.000</td>\n",
       "      <td>0.000</td>\n",
       "      <td>0.000</td>\n",
       "      <td>0.000</td>\n",
       "      <td>0.000</td>\n",
       "      <td>0.000</td>\n",
       "      <td>0.000</td>\n",
       "      <td>0.000</td>\n",
       "    </tr>\n",
       "  </tbody>\n",
       "</table>\n",
       "</div>"
      ],
      "text/plain": [
       "        freq_1  freq_2  freq_3  freq_4  freq_5  freq_6  freq_9  freq_10  \\\n",
       "len_1    0.007   0.000   0.006   0.007   0.000   0.011   0.000    0.000   \n",
       "len_2    0.006   0.019   0.022   0.000   0.000   0.022   0.017    0.019   \n",
       "len_3    0.021   0.007   0.017   0.007   0.009   0.000   0.000    0.000   \n",
       "len_4    0.066   0.019   0.006   0.022   0.000   0.011   0.017    0.000   \n",
       "len_5    0.054   0.022   0.017   0.000   0.000   0.000   0.000    0.000   \n",
       "len_6    0.043   0.004   0.011   0.000   0.000   0.000   0.000    0.000   \n",
       "len_7    0.047   0.011   0.006   0.007   0.009   0.000   0.000    0.000   \n",
       "len_8    0.037   0.007   0.000   0.007   0.000   0.000   0.000    0.000   \n",
       "len_9    0.028   0.004   0.017   0.000   0.000   0.000   0.000    0.000   \n",
       "len_10   0.015   0.000   0.006   0.000   0.000   0.000   0.000    0.000   \n",
       "len_11   0.013   0.004   0.000   0.000   0.000   0.000   0.000    0.000   \n",
       "len_12   0.004   0.000   0.000   0.000   0.000   0.000   0.000    0.000   \n",
       "len_13   0.004   0.000   0.000   0.000   0.000   0.000   0.000    0.000   \n",
       "len_16   0.002   0.000   0.000   0.000   0.000   0.000   0.000    0.000   \n",
       "\n",
       "        freq_11  freq_17  freq_19  freq_26  freq_33  freq_44  \n",
       "len_1     0.000    0.000    0.036    0.000    0.062    0.000  \n",
       "len_2     0.000    0.032    0.000    0.049    0.000    0.000  \n",
       "len_3     0.021    0.000    0.000    0.000    0.000    0.082  \n",
       "len_4     0.000    0.000    0.000    0.000    0.000    0.000  \n",
       "len_5     0.000    0.000    0.000    0.000    0.000    0.000  \n",
       "len_6     0.000    0.000    0.000    0.000    0.000    0.000  \n",
       "len_7     0.000    0.000    0.000    0.000    0.000    0.000  \n",
       "len_8     0.000    0.000    0.000    0.000    0.000    0.000  \n",
       "len_9     0.000    0.000    0.000    0.000    0.000    0.000  \n",
       "len_10    0.000    0.000    0.000    0.000    0.000    0.000  \n",
       "len_11    0.000    0.000    0.000    0.000    0.000    0.000  \n",
       "len_12    0.000    0.000    0.000    0.000    0.000    0.000  \n",
       "len_13    0.000    0.000    0.000    0.000    0.000    0.000  \n",
       "len_16    0.000    0.000    0.000    0.000    0.000    0.000  "
      ]
     },
     "execution_count": 183,
     "metadata": {},
     "output_type": "execute_result"
    }
   ],
   "source": [
    "joint_distribution = np.round(joint_counts * 1.0 / (_word_counter), 3)\n",
    "df = pd.DataFrame(data=joint_distribution)\n",
    "df.columns = [\"freq_\"+str(i) for i in rev_freqs]\n",
    "df.index = [\"len_\"+str(i) for i in rev_lengths]\n",
    "print \"Joint probability distribution for LENGTHS AND FREQUENCIES:\\n\"\n",
    "df"
   ]
  },
  {
   "cell_type": "markdown",
   "metadata": {},
   "source": [
    "### b. Compute entropy over each distributions.\n",
    "\n",
    "**Note that while calculating the entropy for the joint distribution, we cannot calculate it for every entry in the matrix. One reason is that every 0 entry is an event that NEVER ocurred - there does not exist a 7 length word which ocurred 44 times. The second reason is that taking a log over 0 will cause nan issues. So, instead of iteratively dropping the zeros while calculating the entropy, I just add a very small number while taking the log. While this will not affect non-zero elements, it would safely compute the log for 0 elements, which would then be multiplied by their mass(0) and thus will have no effect on the net entropy. **"
   ]
  },
  {
   "cell_type": "code",
   "execution_count": 187,
   "metadata": {
    "collapsed": false
   },
   "outputs": [
    {
     "name": "stdout",
     "output_type": "stream",
     "text": [
      "entropy- lengths distribution: 3.23797245239\n",
      "entropy- frequencies distribution: 3.2027313376\n",
      "entropy- joint distribution: 5.17309076583\n"
     ]
    }
   ],
   "source": [
    "h_lengths = -np.sum(np.sum(joint_distribution, axis=1)*np.log2(np.sum(joint_distribution, axis=1)))\n",
    "print \"entropy- lengths distribution:\", h_lengths\n",
    "\n",
    "h_freqs = -np.sum(np.sum(joint_distribution, axis=0)*np.log2(np.sum(joint_distribution, axis=0)))\n",
    "print \"entropy- frequencies distribution:\", h_freqs\n",
    "\n",
    "h_joint = -np.sum(joint_distribution*np.log2(joint_distribution+1e-30))\n",
    "print \"entropy- joint distribution:\", h_joint"
   ]
  },
  {
   "cell_type": "markdown",
   "metadata": {},
   "source": [
    "c. Compute conditional entropies and mutual information"
   ]
  },
  {
   "cell_type": "code",
   "execution_count": 188,
   "metadata": {
    "collapsed": false
   },
   "outputs": [
    {
     "name": "stdout",
     "output_type": "stream",
     "text": [
      "H(len | freq) 1.97035942823\n",
      "H(freq | len) 1.93511831344\n",
      "I(len , freqs) 1.26761302416\n"
     ]
    }
   ],
   "source": [
    "print \"H(len | freq)\", h_joint - h_freqs\n",
    "print \"H(freq | len)\", h_joint - h_lengths\n",
    "print \"I(len , freqs)\", h_freqs + h_lengths - h_joint"
   ]
  }
 ],
 "metadata": {
  "kernelspec": {
   "display_name": "Python 2",
   "language": "python",
   "name": "python2"
  },
  "language_info": {
   "codemirror_mode": {
    "name": "ipython",
    "version": 2
   },
   "file_extension": ".py",
   "mimetype": "text/x-python",
   "name": "python",
   "nbconvert_exporter": "python",
   "pygments_lexer": "ipython2",
   "version": "2.7.10"
  }
 },
 "nbformat": 4,
 "nbformat_minor": 2
}
